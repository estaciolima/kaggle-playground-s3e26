{
 "cells": [
  {
   "cell_type": "markdown",
   "metadata": {},
   "source": [
    "# Multi-Class Prediction of Cirrhosis Outcomes\n",
    "Playground Series - Season 3, Episode 26<br>\n",
    "<https://www.kaggle.com/competitions/playground-series-s3e26/overview><br>\n",
    "<https://www.kaggle.com/datasets/joebeachcapital/cirrhosis-patient-survival-prediction>"
   ]
  },
  {
   "cell_type": "code",
   "execution_count": 35,
   "metadata": {},
   "outputs": [],
   "source": [
    "import pandas as pd\n",
    "import numpy as np\n",
    "import matplotlib.pyplot as plt"
   ]
  },
  {
   "cell_type": "code",
   "execution_count": 12,
   "metadata": {},
   "outputs": [],
   "source": [
    "df = pd.read_csv('dataset/train.csv')\n",
    "df = df.drop('id', axis=1)"
   ]
  },
  {
   "cell_type": "code",
   "execution_count": 13,
   "metadata": {},
   "outputs": [
    {
     "name": "stdout",
     "output_type": "stream",
     "text": [
      "<class 'pandas.core.frame.DataFrame'>\n",
      "RangeIndex: 7905 entries, 0 to 7904\n",
      "Data columns (total 19 columns):\n",
      " #   Column         Non-Null Count  Dtype  \n",
      "---  ------         --------------  -----  \n",
      " 0   N_Days         7905 non-null   int64  \n",
      " 1   Drug           7905 non-null   object \n",
      " 2   Age            7905 non-null   int64  \n",
      " 3   Sex            7905 non-null   object \n",
      " 4   Ascites        7905 non-null   object \n",
      " 5   Hepatomegaly   7905 non-null   object \n",
      " 6   Spiders        7905 non-null   object \n",
      " 7   Edema          7905 non-null   object \n",
      " 8   Bilirubin      7905 non-null   float64\n",
      " 9   Cholesterol    7905 non-null   float64\n",
      " 10  Albumin        7905 non-null   float64\n",
      " 11  Copper         7905 non-null   float64\n",
      " 12  Alk_Phos       7905 non-null   float64\n",
      " 13  SGOT           7905 non-null   float64\n",
      " 14  Tryglicerides  7905 non-null   float64\n",
      " 15  Platelets      7905 non-null   float64\n",
      " 16  Prothrombin    7905 non-null   float64\n",
      " 17  Stage          7905 non-null   float64\n",
      " 18  Status         7905 non-null   object \n",
      "dtypes: float64(10), int64(2), object(7)\n",
      "memory usage: 1.1+ MB\n"
     ]
    }
   ],
   "source": [
    "df.info()"
   ]
  },
  {
   "cell_type": "code",
   "execution_count": 21,
   "metadata": {},
   "outputs": [
    {
     "data": {
      "text/plain": [
       "['Drug', 'Sex', 'Ascites', 'Hepatomegaly', 'Spiders', 'Edema']"
      ]
     },
     "execution_count": 21,
     "metadata": {},
     "output_type": "execute_result"
    }
   ],
   "source": [
    "categorical_variables = df.drop('Status', axis=1).select_dtypes(include='O').columns.to_list()\n",
    "categorical_variables"
   ]
  },
  {
   "cell_type": "code",
   "execution_count": 22,
   "metadata": {},
   "outputs": [
    {
     "data": {
      "text/plain": [
       "['N_Days',\n",
       " 'Age',\n",
       " 'Bilirubin',\n",
       " 'Cholesterol',\n",
       " 'Albumin',\n",
       " 'Copper',\n",
       " 'Alk_Phos',\n",
       " 'SGOT',\n",
       " 'Tryglicerides',\n",
       " 'Platelets',\n",
       " 'Prothrombin',\n",
       " 'Stage']"
      ]
     },
     "execution_count": 22,
     "metadata": {},
     "output_type": "execute_result"
    }
   ],
   "source": [
    "numerical_variables = df.drop('Status', axis=1).select_dtypes(include=['int64', 'float64']).columns.to_list()\n",
    "numerical_variables"
   ]
  },
  {
   "cell_type": "code",
   "execution_count": 23,
   "metadata": {},
   "outputs": [],
   "source": [
    "y = df['Status']"
   ]
  },
  {
   "cell_type": "code",
   "execution_count": 48,
   "metadata": {},
   "outputs": [
    {
     "data": {
      "image/png": "[encoded data removed]",
      "text/plain": [
       "<Figure size 640x480 with 1 Axes>"
      ]
     },
     "metadata": {},
     "output_type": "display_data"
    }
   ],
   "source": [
    "def y_plot(y):\n",
    "    value_counts = y.value_counts()\n",
    "    labels = value_counts.index.tolist()\n",
    "    values = value_counts.values.tolist()\n",
    "    fig, ax = plt.subplots()\n",
    "    bars = ax.bar(labels, values, color=['red', 'blue', 'green'])\n",
    "    ax.bar_label(bars)\n",
    "\n",
    "y_plot(y)"
   ]
  },
  {
   "cell_type": "markdown",
   "metadata": {},
   "source": [
    "Classes aren't well balanced in the dataset."
   ]
  },
  {
   "cell_type": "markdown",
   "metadata": {},
   "source": [
    "#### Analysis of categorical variables"
   ]
  },
  {
   "cell_type": "code",
   "execution_count": 82,
   "metadata": {},
   "outputs": [],
   "source": [
    "def df_cat_analysis(df, var):\n",
    "    print('Value counts in percentage (%):')\n",
    "    print(df[var].value_counts()/len(df)*100) # in percentage)\n",
    "    print('')\n",
    "    print('Crosstab:')\n",
    "    print(pd.crosstab(df[var], df['Status'], normalize='index')*100)\n",
    "\n"
   ]
  },
  {
   "cell_type": "markdown",
   "metadata": {},
   "source": [
    "##### Drug"
   ]
  },
  {
   "cell_type": "code",
   "execution_count": 83,
   "metadata": {},
   "outputs": [
    {
     "name": "stdout",
     "output_type": "stream",
     "text": [
      "Value counts in percentage (%):\n",
      "Drug\n",
      "Placebo            50.727388\n",
      "D-penicillamine    49.272612\n",
      "Name: count, dtype: float64\n",
      "\n",
      "Crosstab:\n",
      "Status                   C        CL          D\n",
      "Drug                                           \n",
      "D-penicillamine  61.745828  3.876765  34.377407\n",
      "Placebo          63.840399  3.092269  33.067332\n"
     ]
    }
   ],
   "source": [
    "df_cat_analysis(df, 'Drug')"
   ]
  },
  {
   "cell_type": "markdown",
   "metadata": {},
   "source": [
    "The drug type do not seem to affect the outcome."
   ]
  },
  {
   "cell_type": "markdown",
   "metadata": {},
   "source": [
    "##### Sex"
   ]
  },
  {
   "cell_type": "code",
   "execution_count": 84,
   "metadata": {},
   "outputs": [
    {
     "name": "stdout",
     "output_type": "stream",
     "text": [
      "Value counts in percentage (%):\n",
      "Sex\n",
      "F    92.802024\n",
      "M     7.197976\n",
      "Name: count, dtype: float64\n",
      "\n",
      "Crosstab:\n",
      "Status          C        CL          D\n",
      "Sex                                   \n",
      "F       64.544711  3.421483  32.033806\n",
      "M       40.421793  4.217926  55.360281\n"
     ]
    }
   ],
   "source": [
    "df_cat_analysis(df, 'Sex')"
   ]
  },
  {
   "cell_type": "markdown",
   "metadata": {},
   "source": [
    "Do men die more?"
   ]
  },
  {
   "cell_type": "markdown",
   "metadata": {},
   "source": [
    "##### Ascites"
   ]
  },
  {
   "cell_type": "code",
   "execution_count": 85,
   "metadata": {},
   "outputs": [
    {
     "name": "stdout",
     "output_type": "stream",
     "text": [
      "Value counts in percentage (%):\n",
      "Ascites\n",
      "N    95.192916\n",
      "Y     4.807084\n",
      "Name: count, dtype: float64\n",
      "\n",
      "Crosstab:\n",
      "Status           C        CL          D\n",
      "Ascites                                \n",
      "N        65.647841  3.574751  30.777409\n",
      "Y         6.578947  1.578947  91.842105\n"
     ]
    }
   ],
   "source": [
    "df_cat_analysis(df, 'Ascites')"
   ]
  },
  {
   "cell_type": "markdown",
   "metadata": {},
   "source": [
    "Ascites looks like a great predictor. Its presence equals almost certain death (91% of the cases)."
   ]
  },
  {
   "cell_type": "markdown",
   "metadata": {},
   "source": [
    "##### Hepatomegaly"
   ]
  },
  {
   "cell_type": "code",
   "execution_count": 86,
   "metadata": {},
   "outputs": [
    {
     "name": "stdout",
     "output_type": "stream",
     "text": [
      "Value counts in percentage (%):\n",
      "Hepatomegaly\n",
      "Y    51.132195\n",
      "N    48.867805\n",
      "Name: count, dtype: float64\n",
      "\n",
      "Crosstab:\n",
      "Status                C        CL          D\n",
      "Hepatomegaly                                \n",
      "N             82.164121  2.821641  15.014238\n",
      "Y             44.309748  4.106878  51.583375\n"
     ]
    }
   ],
   "source": [
    "df_cat_analysis(df, 'Hepatomegaly')"
   ]
  },
  {
   "cell_type": "markdown",
   "metadata": {},
   "source": [
    "Having Hepatomegaly increases chances of death."
   ]
  },
  {
   "cell_type": "markdown",
   "metadata": {},
   "source": [
    "##### Spiders"
   ]
  },
  {
   "cell_type": "code",
   "execution_count": 87,
   "metadata": {},
   "outputs": [
    {
     "name": "stdout",
     "output_type": "stream",
     "text": [
      "Value counts in percentage (%):\n",
      "Spiders\n",
      "N    75.471221\n",
      "Y    24.528779\n",
      "Name: count, dtype: float64\n",
      "\n",
      "Crosstab:\n",
      "Status           C        CL          D\n",
      "Spiders                                \n",
      "N        71.605766  3.234998  25.159236\n",
      "Y        35.740072  4.228984  60.030944\n"
     ]
    }
   ],
   "source": [
    "df_cat_analysis(df, 'Spiders')"
   ]
  },
  {
   "cell_type": "markdown",
   "metadata": {},
   "source": [
    "Having spiders increases chances of death."
   ]
  },
  {
   "cell_type": "markdown",
   "metadata": {},
   "source": [
    "##### Edema"
   ]
  },
  {
   "cell_type": "code",
   "execution_count": 88,
   "metadata": {},
   "outputs": [
    {
     "name": "stdout",
     "output_type": "stream",
     "text": [
      "Value counts in percentage (%):\n",
      "Edema\n",
      "N    90.588235\n",
      "S     5.047438\n",
      "Y     4.364326\n",
      "Name: count, dtype: float64\n",
      "\n",
      "Crosstab:\n",
      "Status          C        CL          D\n",
      "Edema                                 \n",
      "N       67.686077  3.588884  28.725038\n",
      "S       27.568922  4.010025  68.421053\n",
      "Y        2.318841  0.579710  97.101449\n"
     ]
    }
   ],
   "source": [
    "df_cat_analysis(df, 'Edema')"
   ]
  },
  {
   "cell_type": "markdown",
   "metadata": {},
   "source": [
    "Having Edema despite diuretic therapy is certain death."
   ]
  }
 ],
 "metadata": {
  "kernelspec": {
   "display_name": "myenv",
   "language": "python",
   "name": "python3"
  },
  "language_info": {
   "codemirror_mode": {
    "name": "ipython",
    "version": 3
   },
   "file_extension": ".py",
   "mimetype": "text/x-python",
   "name": "python",
   "nbconvert_exporter": "python",
   "pygments_lexer": "ipython3",
   "version": "3.8.10"
  }
 },
 "nbformat": 4,
 "nbformat_minor": 2
}
